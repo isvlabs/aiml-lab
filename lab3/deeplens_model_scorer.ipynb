{
 "cells": [
  {
   "cell_type": "code",
   "execution_count": 15,
   "metadata": {},
   "outputs": [
    {
     "name": "stdout",
     "output_type": "stream",
     "text": [
      "intialize mxnet: 1.5.0, np: 1.16.4, cv2: 3.4.2\n"
     ]
    }
   ],
   "source": [
    "import os\n",
    "import time\n",
    "import mxnet as mx\n",
    "import numpy as np\n",
    "from math import erf, sqrt\n",
    "import cv2\n",
    "import boto3\n",
    "\n",
    "print('intialize mxnet: {}, np: {}, cv2: {}'.format(mx.__version__, np.__version__, cv2.__version__))\n",
    "\n",
    "class Scorer():\n",
    "\n",
    "    def __init__(self, model_dir, image_size=(112,112)):\n",
    "        # Load the mobilenet face model\n",
    "        self.model_dir = model_dir\n",
    "        self.image_size = image_size\n",
    "        model_start = time.time()\n",
    "        # Load the mxnet model\n",
    "        model_str = os.path.join(self.model_dir, 'mobilenet1,0')\n",
    "        print('loading face model {}, size: {}'.format(model_str, self.image_size))\n",
    "        self.model = self.get_model(mx.cpu(), self.image_size, model_str, 'fc1')\n",
    "        print('face model loaded in {}'.format(time.time()-model_start))\n",
    "        # Load the people model\n",
    "        self.people_path = os.path.join(self.model_dir, 'people.npz')\n",
    "        self.load_model()\n",
    "\n",
    "    def load_model(self):\n",
    "        # Load people database, if we can't find or an error, create new db\n",
    "        people_start = time.time()\n",
    "        try:\n",
    "            print('loading face db {}'.format(self.people_path))\n",
    "            people_db = np.load(self.people_path)\n",
    "            self.vecs = people_db['vecs']\n",
    "            self.names = people_db['names']\n",
    "        except FileNotFoundError as e:\n",
    "            print('initialize face db', e)\n",
    "            self.clear_model()\n",
    "        print('face db loaded in {}s, vecs:{}'.format(time.time()-people_start, self.vecs.shape))\n",
    "\n",
    "    def clear_model(self):\n",
    "        self.vecs = np.zeros((0,128), dtype=float)\n",
    "        self.names = np.zeros((0), dtype=str)\n",
    "\n",
    "    def get_model(self, ctx, image_size, model_str, layer):\n",
    "        _vec = model_str.split(',')\n",
    "        assert len(_vec)==2\n",
    "        prefix = _vec[0]\n",
    "        epoch = int(_vec[1])\n",
    "        sym, arg_params, aux_params = mx.model.load_checkpoint(prefix, epoch)\n",
    "        all_layers = sym.get_internals()\n",
    "        sym = all_layers[layer+'_output']\n",
    "        model = mx.mod.Module(symbol=sym, context=ctx, label_names = None)\n",
    "        #model.bind(data_shapes=[('data', (args.batch_size, 3, image_size[0], image_size[1]))], label_shapes=[('softmax_label', (args.batch_size,))])\n",
    "        model.bind(data_shapes=[('data', (1, 3, image_size[0], image_size[1]))])\n",
    "        model.set_params(arg_params, aux_params)\n",
    "        return model\n",
    "\n",
    "    def get_input(self, image_size, img, bbox=None, rotate=0, margin=44):\n",
    "        # Call preprocess() to generate aligned images\n",
    "        if bbox is None:\n",
    "            det = np.zeros(4, dtype=np.int32)\n",
    "            det[0] = int(img.shape[1]*0.0625)\n",
    "            det[1] = int(img.shape[0]*0.0625)\n",
    "            det[2] = img.shape[1] - det[0]\n",
    "            det[3] = img.shape[0] - det[1]\n",
    "        else:\n",
    "            det = bbox\n",
    "        # Crop\n",
    "        bb = np.zeros(4, dtype=np.int32)\n",
    "        bb[0] = np.maximum(det[0]-margin/2, 0)\n",
    "        bb[1] = np.maximum(det[1]-margin/2, 0)\n",
    "        bb[2] = np.minimum(det[2]+margin/2, img.shape[1])\n",
    "        bb[3] = np.minimum(det[3]+margin/2, img.shape[0])\n",
    "        img = img[bb[1]:bb[3],bb[0]:bb[2],:]\n",
    "        # Rotate if required\n",
    "        if 0 < rotate and rotate < 360:\n",
    "            rows,cols,_ = img.shape\n",
    "            M = cv2.getRotationMatrix2D((cols/2,rows/2),360-rotate,1)\n",
    "            img = cv2.warpAffine(img,M,(cols,rows))\n",
    "        # Resize and transform\n",
    "        img = cv2.resize(img, (image_size[1], image_size[0]))\n",
    "        img = cv2.cvtColor(img, cv2.COLOR_BGR2RGB)\n",
    "        aligned = np.transpose(img, (2,0,1))\n",
    "        return aligned\n",
    "\n",
    "    def get_feature(self, model, aligned):\n",
    "        def l2_normalize(X):\n",
    "            norms = np.sqrt((X * X).sum(axis=1))\n",
    "            X /= norms[:, np.newaxis]\n",
    "            return X\n",
    "        input_blob = np.expand_dims(aligned, axis=0)\n",
    "        data = mx.nd.array(input_blob)\n",
    "        db = mx.io.DataBatch(data=(data,))\n",
    "        model.forward(db, is_train=False)\n",
    "        embedding = model.get_outputs()[0].asnumpy()\n",
    "        embedding = l2_normalize(embedding).flatten()\n",
    "        return embedding\n",
    "\n",
    "    def vectorize(self, img, bbox=None, rotate=0, margin=0):\n",
    "        aligned = self.get_input(self.image_size, img, bbox=bbox, rotate=rotate, margin=margin)\n",
    "        vec = self.get_feature(self.model, aligned)\n",
    "        return aligned, vec\n",
    "\n",
    "    def similar(self, vec):\n",
    "        def phi(x):\n",
    "            #'Cumulative distribution function for the standard normal distribution'\n",
    "            return (1.0 + erf(x / sqrt(2.0))) / 2.0\n",
    "        assert self.vecs.shape[1]==vec.shape[0]\n",
    "        sims = np.dot(self.vecs, vec)\n",
    "        sim_idx = np.argmax(sims)\n",
    "        sim = sims[sim_idx]\n",
    "        z_score = (sim - sims.mean()) / sims.std()\n",
    "        return sim, z_score, phi(z_score), self.names[sim_idx]\n"
   ]
  },
  {
   "cell_type": "markdown",
   "metadata": {},
   "source": [
    "##  Create model bucket\n",
    "\n",
    "Creat model bucket and upload models and people.npz"
   ]
  },
  {
   "cell_type": "code",
   "execution_count": 26,
   "metadata": {},
   "outputs": [
    {
     "name": "stdout",
     "output_type": "stream",
     "text": [
      "make_bucket: deeplens-model-423079281568-ap-southeast-2\r\n"
     ]
    }
   ],
   "source": [
    "import boto3\n",
    "\n",
    "region_name = boto3.session.Session().region_name\n",
    "account_id = boto3.client('sts').get_caller_identity().get('Account')\n",
    "model_bucket = 'deeplens-model-{}-{}'.format(account_id, region_name)\n",
    "\n",
    "!aws s3 mb s3://$model_bucket"
   ]
  },
  {
   "cell_type": "code",
   "execution_count": 27,
   "metadata": {},
   "outputs": [
    {
     "name": "stdout",
     "output_type": "stream",
     "text": [
      "upload: models/mobilenet1-0000.params to s3://deeplens-model-423079281568-ap-southeast-2/mobilenet1/mobilenet1-0000.params\n",
      "upload: models/mobilenet1-symbol.json to s3://deeplens-model-423079281568-ap-southeast-2/mobilenet1/mobilenet1-symbol.json\n",
      "upload: ./people.npz to s3://deeplens-model-423079281568-ap-southeast-2/mobilenet1/people.npz\n"
     ]
    }
   ],
   "source": [
    "!aws s3 cp models/mobilenet1-0000.params s3://$model_bucket/mobilenet1/\n",
    "!aws s3 cp models/mobilenet1-symbol.json s3://$model_bucket/mobilenet1/\n",
    "!aws s3 cp people.npz s3://$model_bucket/mobilenet1/"
   ]
  },
  {
   "cell_type": "markdown",
   "metadata": {},
   "source": [
    "### Download and score\n",
    "\n",
    "Test downloading to an artifacts folder and scoring"
   ]
  },
  {
   "cell_type": "code",
   "execution_count": 36,
   "metadata": {},
   "outputs": [],
   "source": [
    "!aws s3 sync s3://$model_bucket/mobilenet1 ./artifacts"
   ]
  },
  {
   "cell_type": "code",
   "execution_count": 29,
   "metadata": {},
   "outputs": [
    {
     "name": "stdout",
     "output_type": "stream",
     "text": [
      "loading face model ./artifacts/mobilenet1,0, size: (112, 112)\n",
      "face model loaded in 0.2219395637512207\n",
      "loading face db ./artifacts/people.npz\n",
      "face db loaded in 0.007072925567626953s, vecs:(226, 128)\n"
     ]
    }
   ],
   "source": [
    "# Load model\n",
    "model_start = time.time()\n",
    "scorer = Scorer('./artifacts/')\n",
    "msg = 'Image classification model loaded {} in {}s'.format(scorer.vecs.shape[0], time.time()-model_start)\n",
    "sim_threshold = 0.95"
   ]
  },
  {
   "cell_type": "markdown",
   "metadata": {},
   "source": [
    "Download sample image"
   ]
  },
  {
   "cell_type": "code",
   "execution_count": 30,
   "metadata": {},
   "outputs": [
    {
     "name": "stdout",
     "output_type": "stream",
     "text": [
      "Completed 46.8 KiB/46.8 KiB (42.0 KiB/s) with 1 file(s) remaining\r",
      "download: s3://aiml-lab-sagemaker/politicians/politicians1.jpg to tmp/image\r\n"
     ]
    }
   ],
   "source": [
    "!aws s3 cp s3://aiml-lab-sagemaker/politicians/politicians1.jpg tmp/image"
   ]
  },
  {
   "cell_type": "markdown",
   "metadata": {},
   "source": [
    "Get the image frame and bbox size"
   ]
  },
  {
   "cell_type": "code",
   "execution_count": 33,
   "metadata": {},
   "outputs": [],
   "source": [
    "# Call rekognition to get the bbox dims\n",
    "rekognition = boto3.client('rekognition')\n",
    "\n",
    "def get_bbox(img):\n",
    "    # Detect faces\n",
    "    ret, buf = cv2.imencode('.jpg', img)\n",
    "    ret = rekognition.detect_faces(\n",
    "        Image={\n",
    "            'Bytes': buf.tobytes()\n",
    "        },\n",
    "        Attributes=['DEFAULT'],\n",
    "    )\n",
    "    # Return the bounding boxes for each face\n",
    "    height, width, _ = img.shape\n",
    "    bboxes = []\n",
    "    for face in ret['FaceDetails']:\n",
    "        box = face['BoundingBox']\n",
    "        x1 = int(box['Left'] * width)\n",
    "        y1 = int(box['Top'] * height)\n",
    "        x2 = int(box['Left'] * width + box['Width'] * width)\n",
    "        y2 = int(box['Top'] * height + box['Height']  * height)\n",
    "        return [x1, y1, x2, y2]\n",
    "\n",
    "# Load sample image and get bbox\n",
    "frame = cv2.imread('tmp/image')\n",
    "[xmin,ymin,xmax,ymax] = get_bbox(frame)"
   ]
  },
  {
   "cell_type": "markdown",
   "metadata": {},
   "source": [
    "Find most similar image"
   ]
  },
  {
   "cell_type": "code",
   "execution_count": 35,
   "metadata": {},
   "outputs": [
    {
     "name": "stdout",
     "output_type": "stream",
     "text": [
      "sim: 0.4492, zscore: 2.5082, prob: 0.9939, name: Hon Michael McCormack MP\n"
     ]
    }
   ],
   "source": [
    "# Vectorize \n",
    "bbox = [xmin,ymin,xmax,ymax]\n",
    "aligned, vec = scorer.vectorize(frame, bbox)\n",
    "sim, z_score, prob, name = scorer.similar(vec)\n",
    "\n",
    "print('sim: {:.4f}, zscore: {:.4f}, prob: {:.4f}, name: {}'.format(sim, z_score, prob, name))"
   ]
  }
 ],
 "metadata": {
  "kernelspec": {
   "display_name": "conda_mxnet_p36",
   "language": "python",
   "name": "conda_mxnet_p36"
  },
  "language_info": {
   "codemirror_mode": {
    "name": "ipython",
    "version": 3
   },
   "file_extension": ".py",
   "mimetype": "text/x-python",
   "name": "python",
   "nbconvert_exporter": "python",
   "pygments_lexer": "ipython3",
   "version": "3.6.5"
  }
 },
 "nbformat": 4,
 "nbformat_minor": 2
}
